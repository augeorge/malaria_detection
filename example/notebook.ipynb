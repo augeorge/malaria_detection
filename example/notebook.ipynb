{
 "cells": [
  {
   "cell_type": "markdown",
   "metadata": {},
   "source": []
  },
  {
   "cell_type": "code",
   "execution_count": null,
   "metadata": {},
   "outputs": [],
   "source": []
  },
  {
   "attachments": {},
   "cell_type": "markdown",
   "metadata": {},
   "source": [
    "### Step 1: Data Collection\n",
    "\n",
    "Collect a labeled dataset of infected and uninfected cell images, then divide the dataset into training, validation, and test sets.\n",
    "\n",
    "Use `os` and `pillow` navigate the data directories and load tha images\n",
    "\n",
    "note: removed thumb.db from directories"
   ]
  },
  {
   "cell_type": "code",
   "execution_count": 5,
   "metadata": {},
   "outputs": [],
   "source": [
    "import os\n",
    "import numpy as np\n",
    "from PIL import Image\n",
    "from sklearn.model_selection import train_test_split\n",
    "\n",
    "# Set the path to the data directory\n",
    "data_dir = './cell_images'\n",
    "\n",
    "# Create a list of image paths and corresponding labels\n",
    "image_paths = []\n",
    "labels = []\n",
    "\n",
    "parasitized_dir = os.path.join(data_dir, 'Parasitized')\n",
    "for img_file in os.listdir(parasitized_dir):\n",
    "    img_path = os.path.join(parasitized_dir, img_file)\n",
    "    image_paths.append(img_path)\n",
    "    labels.append(1)  # Parasitized is labeled 1\n",
    "\n",
    "uninfected_dir = os.path.join(data_dir, 'Uninfected')\n",
    "for img_file in os.listdir(uninfected_dir):\n",
    "    img_path = os.path.join(uninfected_dir, img_file)\n",
    "    image_paths.append(img_path)\n",
    "    labels.append(0)  # Uninfected is labeled 0\n",
    "\n",
    "# Split the dataset into training, validation, and test sets\n",
    "train_paths, test_paths, train_labels, test_labels = train_test_split(image_paths, labels, test_size=0.2, stratify=labels, random_state=42)\n",
    "train_paths, val_paths, train_labels, val_labels = train_test_split(train_paths, train_labels, test_size=0.2, stratify=train_labels, random_state=42)\n",
    "\n",
    "# Preprocess the images\n",
    "img_size = (64, 64)\n",
    "\n",
    "def preprocess_image(image_path):\n",
    "    img = Image.open(image_path)\n",
    "    img = img.resize(img_size)\n",
    "    img = np.array(img)\n",
    "    img = img / 255.0  # Normalize pixel values\n",
    "    return img\n",
    "\n",
    "train_images = [preprocess_image(img_path) for img_path in train_paths]\n",
    "val_images = [preprocess_image(img_path) for img_path in val_paths]\n",
    "test_images = [preprocess_image(img_path) for img_path in test_paths]\n"
   ]
  },
  {
   "attachments": {},
   "cell_type": "markdown",
   "metadata": {},
   "source": [
    "### Step 2: Data Preprocessing\n",
    "\n",
    "Standardize the size and color of the images and normalize the pixel values. \n",
    "\n",
    "Use  `pillow` standardize and normalize the images"
   ]
  },
  {
   "cell_type": "code",
   "execution_count": null,
   "metadata": {},
   "outputs": [],
   "source": []
  },
  {
   "attachments": {},
   "cell_type": "markdown",
   "metadata": {},
   "source": [
    "### Step 3: Feature extraction"
   ]
  },
  {
   "cell_type": "code",
   "execution_count": 7,
   "metadata": {},
   "outputs": [],
   "source": [
    "from skimage.feature import hog\n",
    "\n",
    "# Extract HOG features from the images\n",
    "train_features = [hog(img, orientations=8, pixels_per_cell=(8, 8), cells_per_block=(2, 2), channel_axis=-1) for img in train_images]\n",
    "val_features = [hog(img, orientations=8, pixels_per_cell=(8, 8), cells_per_block=(2, 2), channel_axis=-1) for img in val_images]\n",
    "test_features = [hog(img, orientations=8, pixels_per_cell=(8, 8), cells_per_block=(2, 2), channel_axis=-1) for img in test_images]"
   ]
  },
  {
   "attachments": {},
   "cell_type": "markdown",
   "metadata": {},
   "source": [
    "### "
   ]
  },
  {
   "cell_type": "code",
   "execution_count": 9,
   "metadata": {},
   "outputs": [
    {
     "name": "stderr",
     "output_type": "stream",
     "text": [
      "2023-04-10 22:34:58.787874: I tensorflow/core/platform/cpu_feature_guard.cc:182] This TensorFlow binary is optimized to use available CPU instructions in performance-critical operations.\n",
      "To enable the following instructions: AVX2 FMA, in other operations, rebuild TensorFlow with the appropriate compiler flags.\n"
     ]
    },
    {
     "name": "stdout",
     "output_type": "stream",
     "text": [
      "Epoch 1/10\n",
      "552/552 [==============================] - 46s 81ms/step - loss: 0.3293 - accuracy: 0.8453 - val_loss: 0.1798 - val_accuracy: 0.9522\n",
      "Epoch 2/10\n",
      "552/552 [==============================] - 44s 80ms/step - loss: 0.1483 - accuracy: 0.9533 - val_loss: 0.1536 - val_accuracy: 0.9492\n",
      "Epoch 3/10\n",
      "552/552 [==============================] - 44s 79ms/step - loss: 0.1320 - accuracy: 0.9563 - val_loss: 0.1280 - val_accuracy: 0.9596\n",
      "Epoch 4/10\n",
      "552/552 [==============================] - 44s 79ms/step - loss: 0.1212 - accuracy: 0.9589 - val_loss: 0.1272 - val_accuracy: 0.9567\n",
      "Epoch 5/10\n",
      "552/552 [==============================] - 44s 80ms/step - loss: 0.1127 - accuracy: 0.9621 - val_loss: 0.1274 - val_accuracy: 0.9590\n",
      "Epoch 6/10\n",
      "552/552 [==============================] - 44s 79ms/step - loss: 0.1005 - accuracy: 0.9649 - val_loss: 0.1328 - val_accuracy: 0.9576\n",
      "Epoch 7/10\n",
      "552/552 [==============================] - 43s 78ms/step - loss: 0.0890 - accuracy: 0.9690 - val_loss: 0.2591 - val_accuracy: 0.9211\n",
      "Epoch 8/10\n",
      "552/552 [==============================] - 46s 83ms/step - loss: 0.0784 - accuracy: 0.9732 - val_loss: 0.1558 - val_accuracy: 0.9567\n",
      "Epoch 9/10\n",
      "552/552 [==============================] - 44s 80ms/step - loss: 0.0665 - accuracy: 0.9769 - val_loss: 0.1549 - val_accuracy: 0.9567\n",
      "Epoch 10/10\n",
      "552/552 [==============================] - 45s 82ms/step - loss: 0.0541 - accuracy: 0.9814 - val_loss: 0.1824 - val_accuracy: 0.9549\n"
     ]
    }
   ],
   "source": [
    "from tensorflow.keras.models import Sequential\n",
    "from tensorflow.keras.layers import Conv2D, MaxPooling2D, Flatten, Dense\n",
    "\n",
    "# Define a simple CNN model\n",
    "model = Sequential([\n",
    "    Conv2D(32, (3, 3), activation='relu', input_shape=(64, 64, 3)),\n",
    "    MaxPooling2D((2, 2)),\n",
    "    Conv2D(64, (3, 3), activation='relu'),\n",
    "    MaxPooling2D((2, 2)),\n",
    "    Conv2D(128, (3, 3), activation='relu'),\n",
    "    MaxPooling2D((2, 2)),\n",
    "    Flatten(),\n",
    "    Dense(128, activation='relu'),\n",
    "    Dense(1, activation='sigmoid')\n",
    "])\n",
    "\n",
    "# Compile the model\n",
    "model.compile(optimizer='adam', loss='binary_crossentropy', metrics=['accuracy'])\n",
    "\n",
    "# Train the model\n",
    "history = model.fit(np.array(train_images), np.array(train_labels), \n",
    "                    validation_data=(np.array(val_images), np.array(val_labels)), \n",
    "                    epochs=10, batch_size=32)"
   ]
  },
  {
   "cell_type": "code",
   "execution_count": null,
   "metadata": {},
   "outputs": [],
   "source": [
    "# Save the model\n",
    "model.save('malaria_detection_model.h5')"
   ]
  },
  {
   "cell_type": "markdown",
   "metadata": {},
   "source": []
  },
  {
   "cell_type": "code",
   "execution_count": 10,
   "metadata": {},
   "outputs": [
    {
     "name": "stdout",
     "output_type": "stream",
     "text": [
      "173/173 [==============================] - 2s 13ms/step - loss: 0.1831 - accuracy: 0.9537\n",
      "Test accuracy: 0.9537373185157776\n"
     ]
    }
   ],
   "source": [
    "# Evaluate the model on the test set\n",
    "test_loss, test_acc = model.evaluate(np.array(test_images), np.array(test_labels))\n",
    "\n",
    "print('Test accuracy:', test_acc)"
   ]
  },
  {
   "cell_type": "code",
   "execution_count": 13,
   "metadata": {},
   "outputs": [
    {
     "ename": "AttributeError",
     "evalue": "'Sequential' object has no attribute 'predict_classes'",
     "output_type": "error",
     "traceback": [
      "\u001b[0;31m---------------------------------------------------------------------------\u001b[0m",
      "\u001b[0;31mAttributeError\u001b[0m                            Traceback (most recent call last)",
      "Cell \u001b[0;32mIn[13], line 5\u001b[0m\n\u001b[1;32m      2\u001b[0m \u001b[39mimport\u001b[39;00m \u001b[39mseaborn\u001b[39;00m \u001b[39mas\u001b[39;00m \u001b[39msns\u001b[39;00m\n\u001b[1;32m      4\u001b[0m \u001b[39m# Get the predicted labels for the test set\u001b[39;00m\n\u001b[0;32m----> 5\u001b[0m test_predictions \u001b[39m=\u001b[39m model\u001b[39m.\u001b[39;49mpredict_classes(np\u001b[39m.\u001b[39marray(test_images))\n\u001b[1;32m      7\u001b[0m \u001b[39m# Generate the confusion matrix\u001b[39;00m\n\u001b[1;32m      8\u001b[0m conf_matrix \u001b[39m=\u001b[39m confusion_matrix(test_labels, test_predictions)\n",
      "\u001b[0;31mAttributeError\u001b[0m: 'Sequential' object has no attribute 'predict_classes'"
     ]
    }
   ],
   "source": [
    "from sklearn.metrics import confusion_matrix\n",
    "import seaborn as sns\n",
    "\n",
    "# Get the predicted labels for the test set\n",
    "test_predictions = model.predict_classes(np.array(test_images))\n",
    "\n",
    "# Generate the confusion matrix\n",
    "conf_matrix = confusion_matrix(test_labels, test_predictions)\n",
    "\n",
    "# Plot the confusion matrix\n",
    "sns.heatmap(conf_matrix, annot=True, cmap='Blues')"
   ]
  },
  {
   "cell_type": "code",
   "execution_count": 14,
   "metadata": {},
   "outputs": [
    {
     "name": "stdout",
     "output_type": "stream",
     "text": [
      "173/173 [==============================] - 2s 13ms/step\n",
      "Precision: 0.9516070783676418\n",
      "Recall: 0.9560957910014514\n"
     ]
    }
   ],
   "source": [
    "from sklearn.metrics import precision_score, recall_score\n",
    "\n",
    "# Calculate precision and recall on the test set\n",
    "test_predictions = model.predict(np.array(test_images))\n",
    "test_predictions = (test_predictions > 0.5).astype(int)\n",
    "precision = precision_score(test_labels, test_predictions)\n",
    "recall = recall_score(test_labels, test_predictions)\n",
    "\n",
    "print('Precision:', precision)\n",
    "print('Recall:', recall)\n"
   ]
  },
  {
   "cell_type": "code",
   "execution_count": 15,
   "metadata": {},
   "outputs": [
    {
     "name": "stdout",
     "output_type": "stream",
     "text": [
      "173/173 [==============================] - 3s 15ms/step\n"
     ]
    },
    {
     "data": {
      "image/png": "[encoded data removed]",
      "text/plain": [
       "<Figure size 640x480 with 1 Axes>"
      ]
     },
     "metadata": {},
     "output_type": "display_data"
    },
    {
     "name": "stdout",
     "output_type": "stream",
     "text": [
      "AUC: 0.9873162341670159\n"
     ]
    }
   ],
   "source": [
    "from sklearn.metrics import roc_curve, roc_auc_score\n",
    "import matplotlib.pyplot as plt\n",
    "\n",
    "# Calculate the predicted probabilities on the test set\n",
    "test_predictions = model.predict(np.array(test_images))\n",
    "\n",
    "# Calculate the false positive rate and true positive rate for different thresholds\n",
    "fpr, tpr, thresholds = roc_curve(test_labels, test_predictions)\n",
    "\n",
    "# Plot the ROC curve\n",
    "plt.plot(fpr, tpr)\n",
    "plt.xlabel('False Positive Rate')\n",
    "plt.ylabel('True Positive Rate')\n",
    "plt.title('ROC Curve')\n",
    "plt.show()\n",
    "\n",
    "# Calculate the area under the ROC curve\n",
    "auc = roc_auc_score(test_labels, test_predictions)\n",
    "print('AUC:', auc)"
   ]
  }
 ],
 "metadata": {
  "kernelspec": {
   "display_name": "pyML",
   "language": "python",
   "name": "python3"
  },
  "language_info": {
   "codemirror_mode": {
    "name": "ipython",
    "version": 3
   },
   "file_extension": ".py",
   "mimetype": "text/x-python",
   "name": "python",
   "nbconvert_exporter": "python",
   "pygments_lexer": "ipython3",
   "version": "3.11.3"
  },
  "orig_nbformat": 4
 },
 "nbformat": 4,
 "nbformat_minor": 2
}
